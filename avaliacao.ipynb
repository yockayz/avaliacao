{
 "cells": [
  {
   "cell_type": "code",
   "execution_count": 40,
   "id": "bdf3fa3a-6ecb-45fa-ae1c-f5c898ecb0f2",
   "metadata": {},
   "outputs": [],
   "source": [
    "uso_cpu = [\n",
    "[20, 25, 40, 50, 45, 60, 55, 35, 70, 65],\n",
    "[30, 35, 50, 60, 40, 55, 60, 45, 50, 55],\n",
    "[15, 20, 30, 25, 35, 40, 45, 50, 55, 60],\n",
    "[10, 15, 25, 35, 45, 50, 55, 60, 65, 70],\n",
    "]"
   ]
  },
  {
   "cell_type": "code",
   "execution_count": 29,
   "id": "c8a36432-e22a-472f-950f-caff10e5dc03",
   "metadata": {},
   "outputs": [
    {
     "name": "stdout",
     "output_type": "stream",
     "text": [
      "70\n",
      "60\n",
      "60\n",
      "70\n"
     ]
    }
   ],
   "source": [
    "def uso_maximo(lista):\n",
    "    max = 0\n",
    "    for x in lista:\n",
    "        if x > max:\n",
    "            max = x\n",
    "    return max\n",
    "\n",
    "print(uso_maximo(uso_cpu[0]))\n",
    "print(uso_maximo(uso_cpu[1]))\n",
    "print(uso_maximo(uso_cpu[2]))\n",
    "print(uso_maximo(uso_cpu[3]))"
   ]
  },
  {
   "cell_type": "code",
   "execution_count": 30,
   "id": "3af7a461-152e-4a68-b959-9ee0943749f1",
   "metadata": {},
   "outputs": [
    {
     "name": "stdout",
     "output_type": "stream",
     "text": [
      "A média é 46.5, há 5 valores acima da média.\n",
      "A média é 48.0, há 6 valores acima da média.\n",
      "A média é 37.5, há 5 valores acima da média.\n",
      "A média é 43.0, há 6 valores acima da média.\n"
     ]
    }
   ],
   "source": [
    "def acima_da_media(lista):\n",
    "    media = sum(lista) / len(lista)\n",
    "    count = 0\n",
    "    for x in lista:\n",
    "        if x > media:\n",
    "            count += 1\n",
    "    print(f'A média é {media}, há {count} valores acima da média.')\n",
    "\n",
    "acima_da_media(uso_cpu[0])\n",
    "acima_da_media(uso_cpu[1])\n",
    "acima_da_media(uso_cpu[2])\n",
    "acima_da_media(uso_cpu[3])"
   ]
  },
  {
   "cell_type": "code",
   "execution_count": 37,
   "id": "e504516b-06b1-441f-b1a0-e2cb6be62cbd",
   "metadata": {},
   "outputs": [
    {
     "name": "stdout",
     "output_type": "stream",
     "text": [
      "[70, 65, 60, 55, 50, 45, 40, 35, 25, 20]\n",
      "[60, 60, 55, 55, 50, 50, 45, 40, 35, 30]\n",
      "[60, 55, 50, 45, 40, 35, 30, 25, 20, 15]\n",
      "[70, 65, 60, 55, 50, 45, 35, 25, 15, 10]\n"
     ]
    }
   ],
   "source": [
    "def dados_decrescente(lista):\n",
    "    lista.sort(reverse=True)\n",
    "    print(lista)\n",
    "\n",
    "dados_decrescente(uso_cpu[0])\n",
    "dados_decrescente(uso_cpu[1])\n",
    "dados_decrescente(uso_cpu[2])\n",
    "dados_decrescente(uso_cpu[3])"
   ]
  },
  {
   "cell_type": "code",
   "execution_count": 49,
   "id": "90a083c0-447f-4fef-ac96-68379411b311",
   "metadata": {},
   "outputs": [
    {
     "data": {
      "text/html": [
       "<div>\n",
       "<style scoped>\n",
       "    .dataframe tbody tr th:only-of-type {\n",
       "        vertical-align: middle;\n",
       "    }\n",
       "\n",
       "    .dataframe tbody tr th {\n",
       "        vertical-align: top;\n",
       "    }\n",
       "\n",
       "    .dataframe thead th {\n",
       "        text-align: right;\n",
       "    }\n",
       "</style>\n",
       "<table border=\"1\" class=\"dataframe\">\n",
       "  <thead>\n",
       "    <tr style=\"text-align: right;\">\n",
       "      <th></th>\n",
       "      <th>hora_1</th>\n",
       "      <th>hora_2</th>\n",
       "      <th>hora_3</th>\n",
       "      <th>hora_4</th>\n",
       "      <th>hora_5</th>\n",
       "      <th>hora_6</th>\n",
       "      <th>hora_7</th>\n",
       "      <th>hora_8</th>\n",
       "      <th>hora_9</th>\n",
       "      <th>hora_10</th>\n",
       "      <th>uso_médio</th>\n",
       "    </tr>\n",
       "  </thead>\n",
       "  <tbody>\n",
       "    <tr>\n",
       "      <th>us-east-1</th>\n",
       "      <td>20</td>\n",
       "      <td>25</td>\n",
       "      <td>40</td>\n",
       "      <td>50</td>\n",
       "      <td>45</td>\n",
       "      <td>60</td>\n",
       "      <td>55</td>\n",
       "      <td>35</td>\n",
       "      <td>70</td>\n",
       "      <td>65</td>\n",
       "      <td>46.5</td>\n",
       "    </tr>\n",
       "    <tr>\n",
       "      <th>us-west-2</th>\n",
       "      <td>30</td>\n",
       "      <td>35</td>\n",
       "      <td>50</td>\n",
       "      <td>60</td>\n",
       "      <td>40</td>\n",
       "      <td>55</td>\n",
       "      <td>60</td>\n",
       "      <td>45</td>\n",
       "      <td>50</td>\n",
       "      <td>55</td>\n",
       "      <td>48.0</td>\n",
       "    </tr>\n",
       "    <tr>\n",
       "      <th>eu-central-1</th>\n",
       "      <td>15</td>\n",
       "      <td>20</td>\n",
       "      <td>30</td>\n",
       "      <td>25</td>\n",
       "      <td>35</td>\n",
       "      <td>40</td>\n",
       "      <td>45</td>\n",
       "      <td>50</td>\n",
       "      <td>55</td>\n",
       "      <td>60</td>\n",
       "      <td>37.5</td>\n",
       "    </tr>\n",
       "    <tr>\n",
       "      <th>sa-east-1</th>\n",
       "      <td>10</td>\n",
       "      <td>15</td>\n",
       "      <td>25</td>\n",
       "      <td>35</td>\n",
       "      <td>45</td>\n",
       "      <td>50</td>\n",
       "      <td>55</td>\n",
       "      <td>60</td>\n",
       "      <td>65</td>\n",
       "      <td>70</td>\n",
       "      <td>43.0</td>\n",
       "    </tr>\n",
       "  </tbody>\n",
       "</table>\n",
       "</div>"
      ],
      "text/plain": [
       "              hora_1  hora_2  hora_3  hora_4  hora_5  hora_6  hora_7  hora_8  \\\n",
       "us-east-1         20      25      40      50      45      60      55      35   \n",
       "us-west-2         30      35      50      60      40      55      60      45   \n",
       "eu-central-1      15      20      30      25      35      40      45      50   \n",
       "sa-east-1         10      15      25      35      45      50      55      60   \n",
       "\n",
       "              hora_9  hora_10  uso_médio  \n",
       "us-east-1         70       65       46.5  \n",
       "us-west-2         50       55       48.0  \n",
       "eu-central-1      55       60       37.5  \n",
       "sa-east-1         65       70       43.0  "
      ]
     },
     "execution_count": 49,
     "metadata": {},
     "output_type": "execute_result"
    }
   ],
   "source": [
    "import pandas as pd\n",
    "\n",
    "data = {\n",
    "    \"hora_1\": [uso_cpu[0][0], uso_cpu[1][0], uso_cpu[2][0], uso_cpu[3][0]],\n",
    "    \"hora_2\": [uso_cpu[0][1], uso_cpu[1][1], uso_cpu[2][1], uso_cpu[3][1]],\n",
    "    \"hora_3\": [uso_cpu[0][2], uso_cpu[1][2], uso_cpu[2][2], uso_cpu[3][2]],\n",
    "    \"hora_4\": [uso_cpu[0][3], uso_cpu[1][3], uso_cpu[2][3], uso_cpu[3][3]],\n",
    "    \"hora_5\": [uso_cpu[0][4], uso_cpu[1][4], uso_cpu[2][4], uso_cpu[3][4]],\n",
    "    \"hora_6\": [uso_cpu[0][5], uso_cpu[1][5], uso_cpu[2][5], uso_cpu[3][5]],\n",
    "    \"hora_7\": [uso_cpu[0][6], uso_cpu[1][6], uso_cpu[2][6], uso_cpu[3][6]],\n",
    "    \"hora_8\": [uso_cpu[0][7], uso_cpu[1][7], uso_cpu[2][7], uso_cpu[3][7]],\n",
    "    \"hora_9\": [uso_cpu[0][8], uso_cpu[1][8], uso_cpu[2][8], uso_cpu[3][8]],\n",
    "    \"hora_10\": [uso_cpu[0][9], uso_cpu[1][9], uso_cpu[2][9], uso_cpu[3][9]]\n",
    "}\n",
    "\n",
    "df = pd.DataFrame(data, index = [\"us-east-1\", \"us-west-2\", \"eu-central-1\", \"sa-east-1\"])\n",
    "\n",
    "df[\"uso_médio\"] = df['hora_1'] + df['hora_2'] + df['hora_3'] + df['hora_4'] + df['hora_5'] + df['hora_6'] + df['hora_7'] + df['hora_8'] + df['hora_9'] + df['hora_10']\n",
    "df[\"uso_médio\"] = df[\"uso_médio\"] / 10\n",
    "\n",
    "df"
   ]
  }
 ],
 "metadata": {
  "kernelspec": {
   "display_name": "Python 3 (ipykernel)",
   "language": "python",
   "name": "python3"
  },
  "language_info": {
   "codemirror_mode": {
    "name": "ipython",
    "version": 3
   },
   "file_extension": ".py",
   "mimetype": "text/x-python",
   "name": "python",
   "nbconvert_exporter": "python",
   "pygments_lexer": "ipython3",
   "version": "3.12.7"
  }
 },
 "nbformat": 4,
 "nbformat_minor": 5
}
